{
 "cells": [
  {
   "cell_type": "code",
   "execution_count": 3,
   "metadata": {},
   "outputs": [
    {
     "name": "stdout",
     "output_type": "stream",
     "text": [
      "Bewege die Scheibe von A nach C!\n",
      "Bewege die Scheibe von A nach B!\n",
      "Bewege die Scheibe von C nach B!\n",
      "Bewege die Scheibe von A nach C!\n",
      "Bewege die Scheibe von B nach A!\n",
      "Bewege die Scheibe von B nach C!\n",
      "Bewege die Scheibe von A nach C!\n"
     ]
    }
   ],
   "source": [
    "#Funktion die die Zuge ausgibt\n",
    "def move(f, t):\n",
    "    print(\"Bewege die Scheibe von {} nach {}!\".format(f, t))\n",
    "\n",
    "\n",
    "#Funktion die den Tower rekursiv löst\n",
    "def hanoi(n, f, h, t):\n",
    "    if n == 0:\n",
    "        pass\n",
    "    else:\n",
    "        hanoi(n - 1, f, t, h)\n",
    "        move(f, t)\n",
    "        hanoi(n - 1, h, f, t)\n",
    "\n",
    "#Input\n",
    "hanoi(3, \"A\", \"B\", \"C\")"
   ]
  },
  {
   "cell_type": "code",
   "execution_count": null,
   "metadata": {},
   "outputs": [],
   "source": []
  }
 ],
 "metadata": {
  "kernelspec": {
   "display_name": "Python 3",
   "language": "python",
   "name": "python3"
  },
  "language_info": {
   "codemirror_mode": {
    "name": "ipython",
    "version": 3
   },
   "file_extension": ".py",
   "mimetype": "text/x-python",
   "name": "python",
   "nbconvert_exporter": "python",
   "pygments_lexer": "ipython3",
   "version": "3.8.3"
  }
 },
 "nbformat": 4,
 "nbformat_minor": 4
}
